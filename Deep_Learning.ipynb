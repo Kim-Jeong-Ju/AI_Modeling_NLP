{
  "nbformat": 4,
  "nbformat_minor": 0,
  "metadata": {
    "colab": {
      "provenance": [],
      "collapsed_sections": [
        "9x71JiRM-Mov",
        "xdyU3FW8_mHy",
        "2waYJmqCH_VX",
        "wwK59W6cQSrt"
      ],
      "authorship_tag": "ABX9TyMHnRNb01V2vK9Ghi+cNWiF",
      "include_colab_link": true
    },
    "kernelspec": {
      "name": "python3",
      "display_name": "Python 3"
    },
    "language_info": {
      "name": "python"
    }
  },
  "cells": [
    {
      "cell_type": "markdown",
      "metadata": {
        "id": "view-in-github",
        "colab_type": "text"
      },
      "source": [
        "<a href=\"https://colab.research.google.com/github/Kim-Jeong-Ju/AI_Modeling_NLP/blob/main/Deep_Learning.ipynb\" target=\"_parent\"><img src=\"https://colab.research.google.com/assets/colab-badge.svg\" alt=\"Open In Colab\"/></a>"
      ]
    },
    {
      "cell_type": "markdown",
      "source": [
        "# **Packages and Modules Importation**"
      ],
      "metadata": {
        "id": "9x71JiRM-Mov"
      }
    },
    {
      "cell_type": "code",
      "execution_count": null,
      "metadata": {
        "id": "EPcjN9FdlBQy"
      },
      "outputs": [],
      "source": [
        "import numpy as np\n",
        "import pandas as pd\n",
        "import matplotlib.pyplot as plt\n",
        "\n",
        "from sklearn.datasets import fetch_20newsgroups\n",
        "\n",
        "from tensorflow.keras.preprocessing.text import Tokenizer\n",
        "from tensorflow.keras.preprocessing.sequence import pad_sequences\n",
        "from tensorflow.keras.utils import to_categorical\n",
        "from tensorflow.keras.models import Sequential\n",
        "from tensorflow.keras.layers import Dense, Dropout, Embedding\n",
        "from tensorflow.keras.utils import plot_model"
      ]
    },
    {
      "cell_type": "markdown",
      "source": [
        "# **Multi-Layer Perceptron, 다층 퍼셉트론**  \n",
        "\n",
        "\n",
        "---\n",
        "\n",
        "- Single-Layer Perceptron의 구조에서 **Hidden-Layer가 1개 이상 추가된 신경망** 구조, **FFNN**(Feed-Forward Neural Network)의 가장 기본적인 형태, FFNN이란 **입력층에서 출력층으로 오직 한 방향으로만 연산** 방향이 정해져 있음\n",
        "- **RNN과 분산 표현(Distributed Representation)** 등의 새로운 개념 없이 NLP 수행 가능"
      ],
      "metadata": {
        "id": "obdtttgM--n3"
      }
    },
    {
      "cell_type": "markdown",
      "source": [
        "## **Keras의 `texts_to_matrix()`에 대하여**  \n",
        "> I. **count mode**의 경우, 문서 단어 행렬인 DTM을 생성하나 word_index의 갯수에 +1이 되어 **0번째 index가 새로 생성됨**. 실제로 0번째 index는 단 한번도 사용되지 않아 효율성이 떨어짐  \n",
        "> II. **binary mode**의 경우 해당 단어의 빈도수에는 관심이 없고, **해당 단어의 존재 유무**에만 관심이 있음.  \n",
        "> III. **tfidf mode**의 경우 TF-IDF 행렬을 생성함. 다만 이전의 개념과는 달리 TF가 각 단어의 빈도에 자연 로그를 씌우고 +1 한 값으로 생성됨. IDF의 경우 앞서 배운 개념의 로그에 자연 로그가 해당되며 로그 안의 분수에 +1이 추가됨 [중요X]  \n",
        "> IV. **freq mode**의 경우 **각 문서에서의 각 단어 빈도수를 분자로, 각 문서에서의 모든 단어의 빈도수의 총합을 분모**로 하는 표현법"
      ],
      "metadata": {
        "id": "xdyU3FW8_mHy"
      }
    },
    {
      "cell_type": "code",
      "source": [
        "texts = ['먹고 싶은 사과', '먹고 싶은 바나나', '길고 노란 바나나 바나나', '저는 과일이 좋아요']\n",
        "\n",
        "tokenizer = Tokenizer()\n",
        "tokenizer.fit_on_texts(texts)\n",
        "print(tokenizer.word_index)"
      ],
      "metadata": {
        "colab": {
          "base_uri": "https://localhost:8080/"
        },
        "id": "C6JMXvvK_rju",
        "outputId": "f7b123da-083c-4cc3-b391-a04bbdb2fa37"
      },
      "execution_count": null,
      "outputs": [
        {
          "output_type": "stream",
          "name": "stdout",
          "text": [
            "{'바나나': 1, '먹고': 2, '싶은': 3, '사과': 4, '길고': 5, '노란': 6, '저는': 7, '과일이': 8, '좋아요': 9}\n"
          ]
        }
      ]
    },
    {
      "cell_type": "code",
      "source": [
        "dir(tokenizer)    # Keras의 Tokenizer() 속성을 파악하기 위함"
      ],
      "metadata": {
        "colab": {
          "base_uri": "https://localhost:8080/"
        },
        "id": "mfvmWl52Exwq",
        "outputId": "75013401-6793-4975-99dc-24cddd0d73b3"
      },
      "execution_count": null,
      "outputs": [
        {
          "output_type": "execute_result",
          "data": {
            "text/plain": [
              "['__class__',\n",
              " '__delattr__',\n",
              " '__dict__',\n",
              " '__dir__',\n",
              " '__doc__',\n",
              " '__eq__',\n",
              " '__format__',\n",
              " '__ge__',\n",
              " '__getattribute__',\n",
              " '__gt__',\n",
              " '__hash__',\n",
              " '__init__',\n",
              " '__init_subclass__',\n",
              " '__le__',\n",
              " '__lt__',\n",
              " '__module__',\n",
              " '__ne__',\n",
              " '__new__',\n",
              " '__reduce__',\n",
              " '__reduce_ex__',\n",
              " '__repr__',\n",
              " '__setattr__',\n",
              " '__sizeof__',\n",
              " '__str__',\n",
              " '__subclasshook__',\n",
              " '__weakref__',\n",
              " '_keras_api_names',\n",
              " '_keras_api_names_v1',\n",
              " 'analyzer',\n",
              " 'char_level',\n",
              " 'document_count',\n",
              " 'filters',\n",
              " 'fit_on_sequences',\n",
              " 'fit_on_texts',\n",
              " 'get_config',\n",
              " 'index_docs',\n",
              " 'index_word',\n",
              " 'lower',\n",
              " 'num_words',\n",
              " 'oov_token',\n",
              " 'sequences_to_matrix',\n",
              " 'sequences_to_texts',\n",
              " 'sequences_to_texts_generator',\n",
              " 'split',\n",
              " 'texts_to_matrix',\n",
              " 'texts_to_sequences',\n",
              " 'texts_to_sequences_generator',\n",
              " 'to_json',\n",
              " 'word_counts',\n",
              " 'word_docs',\n",
              " 'word_index']"
            ]
          },
          "metadata": {},
          "execution_count": 3
        }
      ]
    },
    {
      "cell_type": "code",
      "source": [
        "print(tokenizer.word_index)    # for test\n",
        "print()\n",
        "print(tokenizer.index_word)    # for test"
      ],
      "metadata": {
        "colab": {
          "base_uri": "https://localhost:8080/"
        },
        "id": "AuIxjnDKE912",
        "outputId": "e147b959-fc0c-4429-d7d8-953891f85ee8"
      },
      "execution_count": null,
      "outputs": [
        {
          "output_type": "stream",
          "name": "stdout",
          "text": [
            "{'바나나': 1, '먹고': 2, '싶은': 3, '사과': 4, '길고': 5, '노란': 6, '저는': 7, '과일이': 8, '좋아요': 9}\n",
            "\n",
            "{1: '바나나', 2: '먹고', 3: '싶은', 4: '사과', 5: '길고', 6: '노란', 7: '저는', 8: '과일이', 9: '좋아요'}\n"
          ]
        }
      ]
    },
    {
      "cell_type": "code",
      "source": [
        "print(\"========== Count mode ==========\")\n",
        "print(tokenizer.texts_to_matrix(texts, mode = 'count'))     # texts_to_matrix의 입력으로 texts를 넣고, 모드는 'count'\n",
        "print()\n",
        "\n",
        "print(\"========== Binary mode ==========\")\n",
        "print(tokenizer.texts_to_matrix(texts, mode = 'binary'))     # texts_to_matrix의 입력으로 texts를 넣고, 모드는 'count'\n",
        "print()\n",
        "\n",
        "print(\"========== TF-IDF mode ==========\")\n",
        "print(tokenizer.texts_to_matrix(texts, mode = 'tfidf').round(2))     # texts_to_matrix의 입력으로 texts를 넣고, 모드는 'count'\n",
        "print()\n",
        "\n",
        "print(\"========== Freq mode ==========\")\n",
        "print(tokenizer.texts_to_matrix(texts, mode = 'freq').round(2))     # texts_to_matrix의 입력으로 texts를 넣고, 모드는 'count'"
      ],
      "metadata": {
        "colab": {
          "base_uri": "https://localhost:8080/"
        },
        "id": "SPhC5bsGF_vW",
        "outputId": "a69eafb1-170f-48d1-d476-a6343c0e9bf6"
      },
      "execution_count": null,
      "outputs": [
        {
          "output_type": "stream",
          "name": "stdout",
          "text": [
            "========== Count mode ==========\n",
            "[[0. 0. 1. 1. 1. 0. 0. 0. 0. 0.]\n",
            " [0. 1. 1. 1. 0. 0. 0. 0. 0. 0.]\n",
            " [0. 2. 0. 0. 0. 1. 1. 0. 0. 0.]\n",
            " [0. 0. 0. 0. 0. 0. 0. 1. 1. 1.]]\n",
            "\n",
            "========== Binary mode ==========\n",
            "[[0. 0. 1. 1. 1. 0. 0. 0. 0. 0.]\n",
            " [0. 1. 1. 1. 0. 0. 0. 0. 0. 0.]\n",
            " [0. 1. 0. 0. 0. 1. 1. 0. 0. 0.]\n",
            " [0. 0. 0. 0. 0. 0. 0. 1. 1. 1.]]\n",
            "\n",
            "========== TF-IDF mode ==========\n",
            "[[0.   0.   0.85 0.85 1.1  0.   0.   0.   0.   0.  ]\n",
            " [0.   0.85 0.85 0.85 0.   0.   0.   0.   0.   0.  ]\n",
            " [0.   1.43 0.   0.   0.   1.1  1.1  0.   0.   0.  ]\n",
            " [0.   0.   0.   0.   0.   0.   0.   1.1  1.1  1.1 ]]\n",
            "\n",
            "========== Freq mode ==========\n",
            "[[0.   0.   0.33 0.33 0.33 0.   0.   0.   0.   0.  ]\n",
            " [0.   0.33 0.33 0.33 0.   0.   0.   0.   0.   0.  ]\n",
            " [0.   0.5  0.   0.   0.   0.25 0.25 0.   0.   0.  ]\n",
            " [0.   0.   0.   0.   0.   0.   0.   0.33 0.33 0.33]]\n"
          ]
        }
      ]
    },
    {
      "cell_type": "markdown",
      "source": [
        "## **20개의 News Group Dataset에 대한 이해 from Scikit-Learn**"
      ],
      "metadata": {
        "id": "2waYJmqCH_VX"
      }
    },
    {
      "cell_type": "code",
      "source": [
        "newsdata = fetch_20newsgroups(subset=\"train\")        # subset 속성으로 train을 입력하면 학습용 데이터셋만 return\n",
        "\n",
        "dir(newsdata)\n",
        "print()\n",
        "\n",
        "print(newsdata.keys())\n",
        "print()\n",
        "\n",
        "print(newsdata.filenames)\n",
        "print()\n",
        "\n",
        "print('총 주제의 개수 : {}'.format(len(newsdata.target_names)))\n",
        "print(newsdata.target_names)\n",
        "print()\n",
        "\n",
        "print(newsdata.target)\n",
        "print()\n",
        "\n",
        "print('훈련용 샘플의 개수 : {}'.format(len(newsdata.data)))\n",
        "print()\n",
        "\n",
        "print('첫번째 샘플의 레이블 : {}'.format(newsdata.target[0]))\n",
        "print('7번 레이블이 의미하는 주제 : {}'.format(newsdata.target_names[7]))\n",
        "print(newsdata.data[0])     # 첫번째 샘플 출력"
      ],
      "metadata": {
        "colab": {
          "base_uri": "https://localhost:8080/"
        },
        "id": "hqK9HoBeIlX3",
        "outputId": "b813d073-c885-4f79-b77c-0b091ebab60f"
      },
      "execution_count": null,
      "outputs": [
        {
          "output_type": "stream",
          "name": "stdout",
          "text": [
            "\n",
            "dict_keys(['data', 'filenames', 'target_names', 'target', 'DESCR'])\n",
            "\n",
            "['/root/scikit_learn_data/20news_home/20news-bydate-train/rec.autos/102994'\n",
            " '/root/scikit_learn_data/20news_home/20news-bydate-train/comp.sys.mac.hardware/51861'\n",
            " '/root/scikit_learn_data/20news_home/20news-bydate-train/comp.sys.mac.hardware/51879'\n",
            " ...\n",
            " '/root/scikit_learn_data/20news_home/20news-bydate-train/comp.sys.ibm.pc.hardware/60695'\n",
            " '/root/scikit_learn_data/20news_home/20news-bydate-train/comp.graphics/38319'\n",
            " '/root/scikit_learn_data/20news_home/20news-bydate-train/rec.motorcycles/104440']\n",
            "\n",
            "총 주제의 개수 : 20\n",
            "['alt.atheism', 'comp.graphics', 'comp.os.ms-windows.misc', 'comp.sys.ibm.pc.hardware', 'comp.sys.mac.hardware', 'comp.windows.x', 'misc.forsale', 'rec.autos', 'rec.motorcycles', 'rec.sport.baseball', 'rec.sport.hockey', 'sci.crypt', 'sci.electronics', 'sci.med', 'sci.space', 'soc.religion.christian', 'talk.politics.guns', 'talk.politics.mideast', 'talk.politics.misc', 'talk.religion.misc']\n",
            "\n",
            "[7 4 4 ... 3 1 8]\n",
            "\n",
            "훈련용 샘플의 개수 : 11314\n",
            "\n",
            "첫번째 샘플의 레이블 : 7\n",
            "7번 레이블이 의미하는 주제 : rec.autos\n",
            "From: lerxst@wam.umd.edu (where's my thing)\n",
            "Subject: WHAT car is this!?\n",
            "Nntp-Posting-Host: rac3.wam.umd.edu\n",
            "Organization: University of Maryland, College Park\n",
            "Lines: 15\n",
            "\n",
            " I was wondering if anyone out there could enlighten me on this car I saw\n",
            "the other day. It was a 2-door sports car, looked to be from the late 60s/\n",
            "early 70s. It was called a Bricklin. The doors were really small. In addition,\n",
            "the front bumper was separate from the rest of the body. This is \n",
            "all I know. If anyone can tellme a model name, engine specs, years\n",
            "of production, where this car is made, history, or whatever info you\n",
            "have on this funky looking car, please e-mail.\n",
            "\n",
            "Thanks,\n",
            "- IL\n",
            "   ---- brought to you by your neighborhood Lerxst ----\n",
            "\n",
            "\n",
            "\n",
            "\n",
            "\n"
          ]
        }
      ]
    },
    {
      "cell_type": "code",
      "source": [
        "data = pd.DataFrame(newsdata.data, columns = ['email'])         # 메일 본문에 해당하는 \"email\" column, 정답 label에 해당하는 \"target\" column\n",
        "data['target'] = pd.Series(newsdata.target)\n",
        "data[:5]"
      ],
      "metadata": {
        "colab": {
          "base_uri": "https://localhost:8080/",
          "height": 206
        },
        "id": "0mTH6zYWJxc7",
        "outputId": "d31d6960-e54b-4b47-bd55-d66122da92d2"
      },
      "execution_count": null,
      "outputs": [
        {
          "output_type": "execute_result",
          "data": {
            "text/plain": [
              "                                               email  target\n",
              "0  From: lerxst@wam.umd.edu (where's my thing)\\nS...       7\n",
              "1  From: guykuo@carson.u.washington.edu (Guy Kuo)...       4\n",
              "2  From: twillis@ec.ecn.purdue.edu (Thomas E Will...       4\n",
              "3  From: jgreen@amber (Joe Green)\\nSubject: Re: W...       1\n",
              "4  From: jcm@head-cfa.harvard.edu (Jonathan McDow...      14"
            ],
            "text/html": [
              "\n",
              "  <div id=\"df-f6bd81ad-4c4a-46eb-9343-577ec4def361\">\n",
              "    <div class=\"colab-df-container\">\n",
              "      <div>\n",
              "<style scoped>\n",
              "    .dataframe tbody tr th:only-of-type {\n",
              "        vertical-align: middle;\n",
              "    }\n",
              "\n",
              "    .dataframe tbody tr th {\n",
              "        vertical-align: top;\n",
              "    }\n",
              "\n",
              "    .dataframe thead th {\n",
              "        text-align: right;\n",
              "    }\n",
              "</style>\n",
              "<table border=\"1\" class=\"dataframe\">\n",
              "  <thead>\n",
              "    <tr style=\"text-align: right;\">\n",
              "      <th></th>\n",
              "      <th>email</th>\n",
              "      <th>target</th>\n",
              "    </tr>\n",
              "  </thead>\n",
              "  <tbody>\n",
              "    <tr>\n",
              "      <th>0</th>\n",
              "      <td>From: lerxst@wam.umd.edu (where's my thing)\\nS...</td>\n",
              "      <td>7</td>\n",
              "    </tr>\n",
              "    <tr>\n",
              "      <th>1</th>\n",
              "      <td>From: guykuo@carson.u.washington.edu (Guy Kuo)...</td>\n",
              "      <td>4</td>\n",
              "    </tr>\n",
              "    <tr>\n",
              "      <th>2</th>\n",
              "      <td>From: twillis@ec.ecn.purdue.edu (Thomas E Will...</td>\n",
              "      <td>4</td>\n",
              "    </tr>\n",
              "    <tr>\n",
              "      <th>3</th>\n",
              "      <td>From: jgreen@amber (Joe Green)\\nSubject: Re: W...</td>\n",
              "      <td>1</td>\n",
              "    </tr>\n",
              "    <tr>\n",
              "      <th>4</th>\n",
              "      <td>From: jcm@head-cfa.harvard.edu (Jonathan McDow...</td>\n",
              "      <td>14</td>\n",
              "    </tr>\n",
              "  </tbody>\n",
              "</table>\n",
              "</div>\n",
              "      <button class=\"colab-df-convert\" onclick=\"convertToInteractive('df-f6bd81ad-4c4a-46eb-9343-577ec4def361')\"\n",
              "              title=\"Convert this dataframe to an interactive table.\"\n",
              "              style=\"display:none;\">\n",
              "        \n",
              "  <svg xmlns=\"http://www.w3.org/2000/svg\" height=\"24px\"viewBox=\"0 0 24 24\"\n",
              "       width=\"24px\">\n",
              "    <path d=\"M0 0h24v24H0V0z\" fill=\"none\"/>\n",
              "    <path d=\"M18.56 5.44l.94 2.06.94-2.06 2.06-.94-2.06-.94-.94-2.06-.94 2.06-2.06.94zm-11 1L8.5 8.5l.94-2.06 2.06-.94-2.06-.94L8.5 2.5l-.94 2.06-2.06.94zm10 10l.94 2.06.94-2.06 2.06-.94-2.06-.94-.94-2.06-.94 2.06-2.06.94z\"/><path d=\"M17.41 7.96l-1.37-1.37c-.4-.4-.92-.59-1.43-.59-.52 0-1.04.2-1.43.59L10.3 9.45l-7.72 7.72c-.78.78-.78 2.05 0 2.83L4 21.41c.39.39.9.59 1.41.59.51 0 1.02-.2 1.41-.59l7.78-7.78 2.81-2.81c.8-.78.8-2.07 0-2.86zM5.41 20L4 18.59l7.72-7.72 1.47 1.35L5.41 20z\"/>\n",
              "  </svg>\n",
              "      </button>\n",
              "      \n",
              "  <style>\n",
              "    .colab-df-container {\n",
              "      display:flex;\n",
              "      flex-wrap:wrap;\n",
              "      gap: 12px;\n",
              "    }\n",
              "\n",
              "    .colab-df-convert {\n",
              "      background-color: #E8F0FE;\n",
              "      border: none;\n",
              "      border-radius: 50%;\n",
              "      cursor: pointer;\n",
              "      display: none;\n",
              "      fill: #1967D2;\n",
              "      height: 32px;\n",
              "      padding: 0 0 0 0;\n",
              "      width: 32px;\n",
              "    }\n",
              "\n",
              "    .colab-df-convert:hover {\n",
              "      background-color: #E2EBFA;\n",
              "      box-shadow: 0px 1px 2px rgba(60, 64, 67, 0.3), 0px 1px 3px 1px rgba(60, 64, 67, 0.15);\n",
              "      fill: #174EA6;\n",
              "    }\n",
              "\n",
              "    [theme=dark] .colab-df-convert {\n",
              "      background-color: #3B4455;\n",
              "      fill: #D2E3FC;\n",
              "    }\n",
              "\n",
              "    [theme=dark] .colab-df-convert:hover {\n",
              "      background-color: #434B5C;\n",
              "      box-shadow: 0px 1px 3px 1px rgba(0, 0, 0, 0.15);\n",
              "      filter: drop-shadow(0px 1px 2px rgba(0, 0, 0, 0.3));\n",
              "      fill: #FFFFFF;\n",
              "    }\n",
              "  </style>\n",
              "\n",
              "      <script>\n",
              "        const buttonEl =\n",
              "          document.querySelector('#df-f6bd81ad-4c4a-46eb-9343-577ec4def361 button.colab-df-convert');\n",
              "        buttonEl.style.display =\n",
              "          google.colab.kernel.accessAllowed ? 'block' : 'none';\n",
              "\n",
              "        async function convertToInteractive(key) {\n",
              "          const element = document.querySelector('#df-f6bd81ad-4c4a-46eb-9343-577ec4def361');\n",
              "          const dataTable =\n",
              "            await google.colab.kernel.invokeFunction('convertToInteractive',\n",
              "                                                     [key], {});\n",
              "          if (!dataTable) return;\n",
              "\n",
              "          const docLinkHtml = 'Like what you see? Visit the ' +\n",
              "            '<a target=\"_blank\" href=https://colab.research.google.com/notebooks/data_table.ipynb>data table notebook</a>'\n",
              "            + ' to learn more about interactive tables.';\n",
              "          element.innerHTML = '';\n",
              "          dataTable['output_type'] = 'display_data';\n",
              "          await google.colab.output.renderOutput(dataTable, element);\n",
              "          const docLink = document.createElement('div');\n",
              "          docLink.innerHTML = docLinkHtml;\n",
              "          element.appendChild(docLink);\n",
              "        }\n",
              "      </script>\n",
              "    </div>\n",
              "  </div>\n",
              "  "
            ]
          },
          "metadata": {},
          "execution_count": 4
        }
      ]
    },
    {
      "cell_type": "code",
      "source": [
        "data.info()"
      ],
      "metadata": {
        "colab": {
          "base_uri": "https://localhost:8080/"
        },
        "id": "UoFr21l3J1le",
        "outputId": "cd163819-1c56-4f1c-e132-358cfd4a9f14"
      },
      "execution_count": null,
      "outputs": [
        {
          "output_type": "stream",
          "name": "stdout",
          "text": [
            "<class 'pandas.core.frame.DataFrame'>\n",
            "RangeIndex: 11314 entries, 0 to 11313\n",
            "Data columns (total 2 columns):\n",
            " #   Column  Non-Null Count  Dtype \n",
            "---  ------  --------------  ----- \n",
            " 0   email   11314 non-null  object\n",
            " 1   target  11314 non-null  int64 \n",
            "dtypes: int64(1), object(1)\n",
            "memory usage: 176.9+ KB\n"
          ]
        }
      ]
    },
    {
      "cell_type": "code",
      "source": [
        "data.isnull().values.any()      # Null값(결측치)이 있는지 확인"
      ],
      "metadata": {
        "colab": {
          "base_uri": "https://localhost:8080/"
        },
        "id": "zER4qkfoJ2co",
        "outputId": "2f1e56c5-d95f-4017-dbac-770ac75a4456"
      },
      "execution_count": null,
      "outputs": [
        {
          "output_type": "execute_result",
          "data": {
            "text/plain": [
              "False"
            ]
          },
          "metadata": {},
          "execution_count": 6
        }
      ]
    },
    {
      "cell_type": "code",
      "source": [
        "print('중복을 제외한 샘플의 수 : {}'.format(data['email'].nunique()))       # 중복을 제거한 value 확인\n",
        "print('중복을 제외한 주제의 수 : {}'.format(data['target'].nunique()))"
      ],
      "metadata": {
        "colab": {
          "base_uri": "https://localhost:8080/"
        },
        "id": "of3x8O_-J4SP",
        "outputId": "df1c06f5-5597-4930-e480-6accb2ebef98"
      },
      "execution_count": null,
      "outputs": [
        {
          "output_type": "stream",
          "name": "stdout",
          "text": [
            "중복을 제외한 샘플의 수 : 11314\n",
            "중복을 제외한 주제의 수 : 20\n"
          ]
        }
      ]
    },
    {
      "cell_type": "code",
      "source": [
        "print(data['target'].value_counts())                                        # DataFrame에서 정답 label의 갯수 확인 및 Visualization\n",
        "print()\n",
        "print(data.groupby('target').size().reset_index(name='count'))\n",
        "print()\n",
        "\n",
        "data['target'].value_counts().plot(kind='bar');"
      ],
      "metadata": {
        "colab": {
          "base_uri": "https://localhost:8080/",
          "height": 1000
        },
        "id": "KRCZYhZaJ70u",
        "outputId": "b9cce0d5-7f99-40b9-b770-76b1cd8ea54f"
      },
      "execution_count": null,
      "outputs": [
        {
          "output_type": "stream",
          "name": "stdout",
          "text": [
            "10    600\n",
            "15    599\n",
            "8     598\n",
            "9     597\n",
            "11    595\n",
            "7     594\n",
            "13    594\n",
            "5     593\n",
            "14    593\n",
            "2     591\n",
            "12    591\n",
            "3     590\n",
            "6     585\n",
            "1     584\n",
            "4     578\n",
            "17    564\n",
            "16    546\n",
            "0     480\n",
            "18    465\n",
            "19    377\n",
            "Name: target, dtype: int64\n",
            "\n",
            "    target  count\n",
            "0        0    480\n",
            "1        1    584\n",
            "2        2    591\n",
            "3        3    590\n",
            "4        4    578\n",
            "5        5    593\n",
            "6        6    585\n",
            "7        7    594\n",
            "8        8    598\n",
            "9        9    597\n",
            "10      10    600\n",
            "11      11    595\n",
            "12      12    591\n",
            "13      13    594\n",
            "14      14    593\n",
            "15      15    599\n",
            "16      16    546\n",
            "17      17    564\n",
            "18      18    465\n",
            "19      19    377\n",
            "\n"
          ]
        },
        {
          "output_type": "display_data",
          "data": {
            "text/plain": [
              "<Figure size 432x288 with 1 Axes>"
            ],
            "image/png": "[encoded data removed]"
          },
          "metadata": {
            "needs_background": "light"
          }
        }
      ]
    },
    {
      "cell_type": "code",
      "source": [
        "train_email = data['email']\n",
        "train_label = data['target']\n",
        "\n",
        "newsdata_test = fetch_20newsgroups(subset='test', shuffle=True)\n",
        "test_email = newsdata_test.data\n",
        "test_label = newsdata_test.target"
      ],
      "metadata": {
        "id": "QamZJi7-O1kN"
      },
      "execution_count": null,
      "outputs": []
    },
    {
      "cell_type": "markdown",
      "source": [
        "## **Keras의 Tokenizer를 활용한 데이터 전처리**"
      ],
      "metadata": {
        "id": "o2PR0WreO_LM"
      }
    },
    {
      "cell_type": "markdown",
      "source": [
        "### **Keras를 활용한 Text Dataset 정수 인코딩 및 단어 집합화 Example**"
      ],
      "metadata": {
        "id": "V--ROLarRKVF"
      }
    },
    {
      "cell_type": "code",
      "source": [
        "tokenizer = Tokenizer()\n",
        "train_text = \"The earth is an awesome place live\"\n",
        "sub_text = \"The earth is an great place live\"\n",
        "\n",
        "tokenizer.fit_on_texts([train_text])\n",
        "sequences = tokenizer.texts_to_sequences([sub_text])[0]\n",
        "\n",
        "print(\"정수 인코딩 :\", sequences)\n",
        "print(\"단어 집합 :\", tokenizer.word_index)\n",
        "print()\n",
        "\n",
        "pad_seq_result = pad_sequences([[1, 2, 3], [3, 4, 5, 6], [7, 8]], maxlen=3, padding=\"pre\")\n",
        "print(pad_seq_result)"
      ],
      "metadata": {
        "colab": {
          "base_uri": "https://localhost:8080/"
        },
        "id": "p-DxHw0HOh1G",
        "outputId": "80d6c4ab-f171-4058-d942-c339118f5d5a"
      },
      "execution_count": null,
      "outputs": [
        {
          "output_type": "stream",
          "name": "stdout",
          "text": [
            "정수 인코딩 : [1, 2, 3, 4, 6, 7]\n",
            "단어 집합 : {'the': 1, 'earth': 2, 'is': 3, 'an': 4, 'awesome': 5, 'place': 6, 'live': 7}\n",
            "\n",
            "[[1 2 3]\n",
            " [4 5 6]\n",
            " [0 7 8]]\n"
          ]
        }
      ]
    },
    {
      "cell_type": "markdown",
      "source": [
        "### **Word Embedding Example**"
      ],
      "metadata": {
        "id": "4Q5BPAtrRSaN"
      }
    },
    {
      "cell_type": "code",
      "source": [
        "tokenized_text = [[\"Hope\", \"to\", \"see\", \"you\", \"soon\"], [\"Nice\", \"to\", \"see\", \"you\", \"again\"]]\n",
        "encoded_text = [[0, 1, 2, 3, 4], [5, 1, 2, 3, 6]]\n",
        "\n",
        "vocab_size = 7\n",
        "embedding_dim = 2\n",
        "\n",
        "embedded_vector = Embedding(vocab_size, embedding_dim, input_length=5)\n",
        "print(embedded_vector)"
      ],
      "metadata": {
        "colab": {
          "base_uri": "https://localhost:8080/"
        },
        "id": "--6NByZkRYFt",
        "outputId": "77c9ed2d-bbcc-4089-d525-2ea14943159e"
      },
      "execution_count": null,
      "outputs": [
        {
          "output_type": "stream",
          "name": "stdout",
          "text": [
            "<keras.layers.core.embedding.Embedding object at 0x7fa5b5ab9e90>\n"
          ]
        }
      ]
    },
    {
      "cell_type": "code",
      "source": [
        "vocab_size = 10000\n",
        "num_classes = 20\n",
        "\n",
        "def prepare_data(train_data, test_data, mode):                      # 데이터셋 전처리 함수\n",
        "    tokenizer = Tokenizer(num_words=vocab_size)                     # 사전에 정의한 vocab_size만큼의 단어만 사용\n",
        "    tokenizer.fit_on_texts(train_data)\n",
        "\n",
        "    X_train = tokenizer.texts_to_matrix(train_data, mode=mode)      # sample size * vocab_size 만큼의 행렬 생성\n",
        "    X_test = tokenizer.texts_to_matrix(test_data, mode=mode)\n",
        "\n",
        "    return X_train, X_test, tokenizer.index_word\n",
        "\n",
        "X_train, X_test, index_to_word = prepare_data(train_email, test_email, 'binary')    # binary 모드로 변환\n",
        "y_train = to_categorical(train_label, num_classes)                                  # One-Hot Encoding\n",
        "y_test = to_categorical(test_label, num_classes)\n",
        "\n",
        "print('훈련 샘플 본문의 크기 : {}'.format(X_train.shape))\n",
        "print('훈련 샘플 레이블의 크기 : {}'.format(y_train.shape))\n",
        "print('테스트 샘플 본문의 크기 : {}'.format(X_test.shape))\n",
        "print('테스트 샘플 레이블의 크기 : {}'.format(y_test.shape))\n",
        "print()\n",
        "\n",
        "print('빈도수 상위 1번 단어 : {}'.format(index_to_word[1]))             # 행렬의 0-index는 사용하지 않으므로 총 9999개의 단어가 표현됨\n",
        "print('빈도수 상위 9999번 단어 : {}'.format(index_to_word[9999]))       # 빈도수 상위 1위와 9999위 단어 확인"
      ],
      "metadata": {
        "colab": {
          "base_uri": "https://localhost:8080/"
        },
        "id": "NUvjPgqHPCnE",
        "outputId": "94865214-f84f-4ec2-bdd1-cca69a0b3296"
      },
      "execution_count": null,
      "outputs": [
        {
          "output_type": "stream",
          "name": "stdout",
          "text": [
            "훈련 샘플 본문의 크기 : (11314, 10000)\n",
            "훈련 샘플 레이블의 크기 : (11314, 20)\n",
            "테스트 샘플 본문의 크기 : (7532, 10000)\n",
            "테스트 샘플 레이블의 크기 : (7532, 20)\n",
            "\n",
            "빈도수 상위 1번 단어 : the\n",
            "빈도수 상위 9999번 단어 : mic\n"
          ]
        }
      ]
    },
    {
      "cell_type": "markdown",
      "source": [
        "## **MLP를 사용한 Text Classification**"
      ],
      "metadata": {
        "id": "wwK59W6cQSrt"
      }
    },
    {
      "cell_type": "code",
      "source": [
        "def fit_and_evaluate(X_train, y_train, X_test, y_test):                     # Text Classification을 위한 MLP Model 설계\n",
        "    mlp_model = Sequential()\n",
        "\n",
        "    mlp_model.add(Dense(256, input_shape=(vocab_size,), activation=\"relu\"))\n",
        "    mlp_model.add(Dropout(0.5))             # Over-Fitting 방지를 위한 Drop-Out 기법 사용\n",
        "\n",
        "    mlp_model.add(Dense(128, activation=\"relu\"))\n",
        "    mlp_model.add(Dropout(0.5))\n",
        "\n",
        "    mlp_model.add(Dense(num_classes, activation=\"softmax\"))\n",
        "\n",
        "    mlp_model.compile(loss=\"categorical_crossentropy\", optimizer=\"adam\", metrics=[\"accuracy\"])\n",
        "    mlp_model.fit(X_train, y_train, batch_size=128, epochs=5, verbose=1, validation_split=0.1)\n",
        "\n",
        "    score = mlp_model.evaluate(X_test, y_test, batch_size=128, verbose=1)       # score[0] = loss, score[1] = accuracy\n",
        "\n",
        "    return score[1]"
      ],
      "metadata": {
        "id": "xUMNB6ayQVzF"
      },
      "execution_count": null,
      "outputs": []
    },
    {
      "cell_type": "code",
      "source": [
        "mlp_model = Sequential()\n",
        "\n",
        "mlp_model.add(Dense(256, input_shape=(vocab_size,), activation='relu'))\n",
        "mlp_model.add(Dropout(0.5))\n",
        "\n",
        "mlp_model.add(Dense(128, activation='relu'))\n",
        "mlp_model.add(Dropout(0.5))\n",
        "\n",
        "mlp_model.add(Dense(num_classes, activation='softmax'))\n",
        "\n",
        "mlp_model.compile(loss='categorical_crossentropy', optimizer='adam', metrics=['accuracy'])\n",
        "\n",
        "mlp_model.summary()         # Model의 Architecture 파악"
      ],
      "metadata": {
        "colab": {
          "base_uri": "https://localhost:8080/"
        },
        "id": "ASQNOqDhRJNl",
        "outputId": "2df5da50-bac2-4a95-929b-d4be64eff9f2"
      },
      "execution_count": null,
      "outputs": [
        {
          "output_type": "stream",
          "name": "stdout",
          "text": [
            "Model: \"sequential\"\n",
            "_________________________________________________________________\n",
            " Layer (type)                Output Shape              Param #   \n",
            "=================================================================\n",
            " dense (Dense)               (None, 256)               2560256   \n",
            "                                                                 \n",
            " dropout (Dropout)           (None, 256)               0         \n",
            "                                                                 \n",
            " dense_1 (Dense)             (None, 128)               32896     \n",
            "                                                                 \n",
            " dropout_1 (Dropout)         (None, 128)               0         \n",
            "                                                                 \n",
            " dense_2 (Dense)             (None, 20)                2580      \n",
            "                                                                 \n",
            "=================================================================\n",
            "Total params: 2,595,732\n",
            "Trainable params: 2,595,732\n",
            "Non-trainable params: 0\n",
            "_________________________________________________________________\n"
          ]
        }
      ]
    },
    {
      "cell_type": "code",
      "source": [
        "plot_model(mlp_model, show_shapes=True)     # TensorFlow Keras Utils의 plot_model 함수를 통해 모델 구조 Visualization"
      ],
      "metadata": {
        "colab": {
          "base_uri": "https://localhost:8080/",
          "height": 644
        },
        "id": "odQ-6yiRRQp9",
        "outputId": "e01492c0-0c2e-4863-c2c6-f69f979c9166"
      },
      "execution_count": null,
      "outputs": [
        {
          "output_type": "execute_result",
          "data": {
            "image/png": "[encoded data removed]",
            "text/plain": [
              "<IPython.core.display.Image object>"
            ]
          },
          "metadata": {},
          "execution_count": 15
        }
      ]
    },
    {
      "cell_type": "code",
      "source": [
        "modes = ['binary', 'count', 'tfidf', 'freq']                            # 4개의 모드를 리스트에 저장\n",
        "\n",
        "for mode in modes:                                                      # 4개의 모드에 대해서 각각 아래의 작업을 반복\n",
        "    X_train, X_test, _ = prepare_data(train_email, test_email, mode)    # 모드에 따라서 데이터를 전처리\n",
        "    score = fit_and_evaluate(X_train, y_train, X_test, y_test)          # 모델을 훈련하고 평가\n",
        "    print(f\"========== {mode} mode의 테스트 정확도 = {score} ==========\")\n",
        "    print(\"\\n\")"
      ],
      "metadata": {
        "colab": {
          "base_uri": "https://localhost:8080/"
        },
        "id": "bUp3XAm1Rw1V",
        "outputId": "59800b1d-92be-4ddf-e34f-4516f9d565f1"
      },
      "execution_count": null,
      "outputs": [
        {
          "output_type": "stream",
          "name": "stdout",
          "text": [
            "Epoch 1/5\n",
            "80/80 [==============================] - 1s 9ms/step - loss: 2.2956 - accuracy: 0.3423 - val_loss: 0.9715 - val_accuracy: 0.8392\n",
            "Epoch 2/5\n",
            "80/80 [==============================] - 0s 6ms/step - loss: 0.8623 - accuracy: 0.7661 - val_loss: 0.4526 - val_accuracy: 0.8852\n",
            "Epoch 3/5\n",
            "80/80 [==============================] - 1s 6ms/step - loss: 0.4328 - accuracy: 0.8853 - val_loss: 0.3406 - val_accuracy: 0.9019\n",
            "Epoch 4/5\n",
            "80/80 [==============================] - 1s 6ms/step - loss: 0.2655 - accuracy: 0.9333 - val_loss: 0.3119 - val_accuracy: 0.9099\n",
            "Epoch 5/5\n",
            "80/80 [==============================] - 1s 6ms/step - loss: 0.1773 - accuracy: 0.9569 - val_loss: 0.2977 - val_accuracy: 0.9152\n",
            "59/59 [==============================] - 0s 5ms/step - loss: 0.6483 - accuracy: 0.8313\n",
            "========== binary mode의 테스트 정확도 = 0.8312532901763916 ==========\n",
            "\n",
            "\n",
            "Epoch 1/5\n",
            "80/80 [==============================] - 1s 9ms/step - loss: 2.7704 - accuracy: 0.2517 - val_loss: 1.5173 - val_accuracy: 0.7279\n",
            "Epoch 2/5\n",
            "80/80 [==============================] - 1s 7ms/step - loss: 1.3646 - accuracy: 0.6426 - val_loss: 0.7128 - val_accuracy: 0.8454\n",
            "Epoch 3/5\n",
            "80/80 [==============================] - 1s 6ms/step - loss: 0.8726 - accuracy: 0.7855 - val_loss: 0.5063 - val_accuracy: 0.8790\n",
            "Epoch 4/5\n",
            "80/80 [==============================] - 1s 6ms/step - loss: 0.5782 - accuracy: 0.8698 - val_loss: 0.4452 - val_accuracy: 0.8816\n",
            "Epoch 5/5\n",
            "80/80 [==============================] - 0s 6ms/step - loss: 0.3473 - accuracy: 0.9206 - val_loss: 0.3817 - val_accuracy: 0.9037\n",
            "59/59 [==============================] - 0s 5ms/step - loss: 0.7987 - accuracy: 0.8253\n",
            "========== count mode의 테스트 정확도 = 0.8252788186073303 ==========\n",
            "\n",
            "\n",
            "Epoch 1/5\n",
            "80/80 [==============================] - 1s 9ms/step - loss: 2.2276 - accuracy: 0.3541 - val_loss: 0.7571 - val_accuracy: 0.8463\n",
            "Epoch 2/5\n",
            "80/80 [==============================] - 1s 6ms/step - loss: 0.8622 - accuracy: 0.7727 - val_loss: 0.4261 - val_accuracy: 0.8913\n",
            "Epoch 3/5\n",
            "80/80 [==============================] - 1s 6ms/step - loss: 0.4447 - accuracy: 0.8842 - val_loss: 0.3396 - val_accuracy: 0.9064\n",
            "Epoch 4/5\n",
            "80/80 [==============================] - 1s 6ms/step - loss: 0.3216 - accuracy: 0.9239 - val_loss: 0.2940 - val_accuracy: 0.9108\n",
            "Epoch 5/5\n",
            "80/80 [==============================] - 1s 7ms/step - loss: 0.1936 - accuracy: 0.9520 - val_loss: 0.2885 - val_accuracy: 0.9187\n",
            "59/59 [==============================] - 0s 5ms/step - loss: 0.7717 - accuracy: 0.8299\n",
            "========== tfidf mode의 테스트 정확도 = 0.8299256563186646 ==========\n",
            "\n",
            "\n",
            "Epoch 1/5\n",
            "80/80 [==============================] - 1s 8ms/step - loss: 2.9775 - accuracy: 0.0804 - val_loss: 2.9283 - val_accuracy: 0.2500\n",
            "Epoch 2/5\n",
            "80/80 [==============================] - 1s 6ms/step - loss: 2.7179 - accuracy: 0.2299 - val_loss: 2.3767 - val_accuracy: 0.3525\n",
            "Epoch 3/5\n",
            "80/80 [==============================] - 1s 6ms/step - loss: 2.1504 - accuracy: 0.3423 - val_loss: 1.8282 - val_accuracy: 0.6122\n",
            "Epoch 4/5\n",
            "80/80 [==============================] - 1s 6ms/step - loss: 1.6994 - accuracy: 0.4825 - val_loss: 1.4396 - val_accuracy: 0.7217\n",
            "Epoch 5/5\n",
            "80/80 [==============================] - 1s 6ms/step - loss: 1.3504 - accuracy: 0.6022 - val_loss: 1.1284 - val_accuracy: 0.7562\n",
            "59/59 [==============================] - 0s 5ms/step - loss: 1.2797 - accuracy: 0.6966\n",
            "========== freq mode의 테스트 정확도 = 0.6966277360916138 ==========\n",
            "\n",
            "\n"
          ]
        }
      ]
    }
  ]
}