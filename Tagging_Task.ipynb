{
  "nbformat": 4,
  "nbformat_minor": 0,
  "metadata": {
    "colab": {
      "provenance": [],
      "authorship_tag": "ABX9TyN6I8eO5yduYko75fHdWmbN",
      "include_colab_link": true
    },
    "kernelspec": {
      "name": "python3",
      "display_name": "Python 3"
    },
    "language_info": {
      "name": "python"
    },
    "gpuClass": "standard"
  },
  "cells": [
    {
      "cell_type": "markdown",
      "metadata": {
        "id": "view-in-github",
        "colab_type": "text"
      },
      "source": [
        "<a href=\"https://colab.research.google.com/github/Kim-Jeong-Ju/AI_Modeling_NLP/blob/main/Tagging_Task.ipynb\" target=\"_parent\"><img src=\"https://colab.research.google.com/assets/colab-badge.svg\" alt=\"Open In Colab\"/></a>"
      ]
    },
    {
      "cell_type": "markdown",
      "source": [
        "# **Packages and Modules Importation**"
      ],
      "metadata": {
        "id": "hJR1IHbBIZwi"
      }
    },
    {
      "cell_type": "code",
      "execution_count": null,
      "metadata": {
        "id": "O_aUhXcuDV7D",
        "colab": {
          "base_uri": "https://localhost:8080/"
        },
        "outputId": "c38d34d4-5443-46f1-f80e-8371f73daaea"
      },
      "outputs": [
        {
          "output_type": "stream",
          "name": "stdout",
          "text": [
            "Mounted at /content/drive\n"
          ]
        },
        {
          "output_type": "stream",
          "name": "stderr",
          "text": [
            "[nltk_data] Downloading package treebank to /root/nltk_data...\n",
            "[nltk_data]   Unzipping corpora/treebank.zip.\n"
          ]
        }
      ],
      "source": [
        "from google.colab import drive\n",
        "drive.mount('/content/drive')\n",
        "\n",
        "import os\n",
        "import time\n",
        "import re\n",
        "import urllib.request\n",
        "import numpy as np\n",
        "import pandas as pd\n",
        "import matplotlib.pyplot as plt\n",
        "import seaborn as sns\n",
        "\n",
        "import nltk\n",
        "nltk.download('treebank')\n",
        "\n",
        "from sklearn.model_selection import train_test_split\n",
        "\n",
        "import tensorflow as tf\n",
        "from tensorflow.keras.preprocessing.text import Tokenizer\n",
        "from tensorflow.keras.preprocessing.sequence import pad_sequences\n",
        "from tensorflow.keras.utils import to_categorical\n",
        "from tensorflow.keras.models import Sequential\n",
        "from tensorflow.keras.layers import InputLayer, Embedding, Dense, LSTM, Bidirectional, TimeDistributed\n",
        "from tensorflow.keras.optimizers import Adam"
      ]
    },
    {
      "cell_type": "markdown",
      "source": [
        "# **Tagging Task, 태깅 작업**"
      ],
      "metadata": {
        "id": "yzqZF2BTIyT5"
      }
    },
    {
      "cell_type": "markdown",
      "source": [
        "## **POS(Part-Of-Speech) Tagging with Bi-LSTM, 양방향 LSTM을 통한 품사 태깅**  \n",
        "\n",
        "\n",
        "---\n",
        "\n",
        "- **다대다 문제**이므로 **LSTM의 `return_sequences=True`**로 설정, **양방향 사용**을 위해 **`Bidirectional()` 사용**\n",
        "- target label에 대해 One-Hot Encoding 이후 Loss function으로 `categorical_crossentropy` 사용이 아닌, **원본 target label을 사용하되 Loss function으로 `sparse_categorical_crossentropy` 사용**\n",
        "- data의 padding으로 인해 0의 값이 많아질 때에는 **`Embedding()`의 argument로 `mask_zero=True`를 설정하면 0의 값은 연산에서 제외**\n",
        "- 출력층에 **`TimeDistributed()`를 사용해 LSTM의 모든 time step에서 출력층을 사용**"
      ],
      "metadata": {
        "id": "0jxQL3Yge1x8"
      }
    },
    {
      "cell_type": "code",
      "source": [
        "tagged_sents = nltk.corpus.treebank.tagged_sents()      # 토큰화에 품사 태깅이 된 데이터 불러오기\n",
        "print(\"품사 태깅된 문장 갯수 =\", len(tagged_sents))\n",
        "print(tagged_sents[0])\n",
        "print()\n",
        "\n",
        "sents, pos_tags = [], []\n",
        "for tagged_sent in tagged_sents:\n",
        "    sent, tag_info = zip(*tagged_sent)      # 각 샘플에서 단어는 sent에, 품사 정보는 tag_info에 저장\n",
        "    sents.append(list(sent))\n",
        "    pos_tags.append(list(tag_info))\n",
        "\n",
        "print('Maximum Length = %d' % max(len(line) for line in sents))         # max_len으로의 padding을 위한 데이터의 길이 분포 확인 \n",
        "print('Average Length = %f' % (sum(map(len, sents)) / len(sents)))\n",
        "plt.hist([len(sent) for sent in sents], bins=50)\n",
        "plt.xlabel('length of samples')\n",
        "plt.ylabel('number of samples')\n",
        "plt.show()\n",
        "print()\n",
        "\n",
        "def tokenize(samples):                                  # Integer Encoding 수행\n",
        "    tokenizer = Tokenizer()\n",
        "    tokenizer.fit_on_texts(samples)\n",
        "    return tokenizer\n",
        "\n",
        "src_tokenizer = tokenize(sents)\n",
        "tar_tokenizer = tokenize(pos_tags)\n",
        "vocab_size = len(src_tokenizer.word_index) + 1\n",
        "tag_size = len(tar_tokenizer.word_index) + 1\n",
        "print(\"Vocabulary Size =\", vocab_size)\n",
        "print(\"Tagging Set Size =\", tag_size)\n",
        "print()\n",
        "\n",
        "X_train = src_tokenizer.texts_to_sequences(sents)\n",
        "y_train = tar_tokenizer.texts_to_sequences(pos_tags)\n",
        "\n",
        "max_len = 150          # padding 작업\n",
        "X_train = pad_sequences(X_train, padding=\"post\", maxlen=max_len)\n",
        "y_train = pad_sequences(y_train, padding=\"post\", maxlen=max_len)\n",
        "\n",
        "X_train, X_test, y_train, y_test = train_test_split(X_train, y_train, test_size=0.2, random_state=777)\n",
        "print('Train Data Size = {}'.format(X_train.shape))\n",
        "print('Train Label Size = {}'.format(y_train.shape))\n",
        "print('Test Data Size = {}'.format(X_test.shape))\n",
        "print('Test Label Size = {}'.format(y_test.shape))"
      ],
      "metadata": {
        "colab": {
          "base_uri": "https://localhost:8080/",
          "height": 539
        },
        "id": "SEHwmjDNj0xU",
        "outputId": "543de22c-b187-49cd-fa73-4260496b2f18"
      },
      "execution_count": null,
      "outputs": [
        {
          "output_type": "stream",
          "name": "stdout",
          "text": [
            "품사 태깅된 문장 갯수 = 3914\n",
            "[('Pierre', 'NNP'), ('Vinken', 'NNP'), (',', ','), ('61', 'CD'), ('years', 'NNS'), ('old', 'JJ'), (',', ','), ('will', 'MD'), ('join', 'VB'), ('the', 'DT'), ('board', 'NN'), ('as', 'IN'), ('a', 'DT'), ('nonexecutive', 'JJ'), ('director', 'NN'), ('Nov.', 'NNP'), ('29', 'CD'), ('.', '.')]\n",
            "\n",
            "Maximum Length = 271\n",
            "Average Length = 25.722024\n"
          ]
        },
        {
          "output_type": "display_data",
          "data": {
            "text/plain": [
              "<Figure size 432x288 with 1 Axes>"
            ],
            "image/png": "[encoded data removed]"
          },
          "metadata": {
            "needs_background": "light"
          }
        },
        {
          "output_type": "stream",
          "name": "stdout",
          "text": [
            "\n",
            "Vocabulary Size = 11388\n",
            "Tagging Set Size = 47\n",
            "\n",
            "Train Data Size = (3131, 150)\n",
            "Train Label Size = (3131, 150)\n",
            "Test Data Size = (783, 150)\n",
            "Test Label Size = (783, 150)\n"
          ]
        }
      ]
    },
    {
      "cell_type": "code",
      "source": [
        "embedding_dim = 128\n",
        "hidden_units = 128\n",
        "\n",
        "model = Sequential()\n",
        "model.add(Embedding(vocab_size, embedding_dim, mask_zero=True))\n",
        "model.add(Bidirectional(LSTM(hidden_units, return_sequences=True)))\n",
        "model.add(TimeDistributed(Dense(tag_size, activation=\"softmax\")))\n",
        "\n",
        "model.compile(optimizer=Adam(0.01), loss=\"sparse_categorical_crossentropy\", metrics=[\"acc\"])\n",
        "model.fit(X_train, y_train, epochs=7, batch_size=128, validation_data=(X_test, y_test))\n",
        "print()\n",
        "\n",
        "print(\"Test Accuracy = %.4f\" % (model.evaluate(X_test, y_test)[1]))\n",
        "print()\n",
        "\n",
        "index_to_word = src_tokenizer.index_word\n",
        "index_to_tag = tar_tokenizer.index_word\n",
        "\n",
        "idx = 10                                                                        # 예측하고 싶은 데이터의 index 설정\n",
        "y_pred = model.predict(np.array([X_test[idx]]))                                 # 예측한 y_pred return\n",
        "print(f\"Shape of y_pred = {y_pred.shape}\")\n",
        "print()\n",
        "\n",
        "y_pred = np.argmax(y_pred, axis=-1)                                             # One-Hot Encoding을 Integer Encoding으로 변환, armax의 axis=-1이면 뒤에서부터 순서대로 최댓값의 index 반환\n",
        "print(\"{:15}|{:5}|{}\".format(\"단어\", \"실제값\", \"예측값\"))\n",
        "print(35 * \"-\")\n",
        "for word, tag, pred in zip(X_test[idx], y_test[idx], y_pred[0]):\n",
        "    if word != 0:       # 0번 PAD(padding) token은 제외\n",
        "        print(\"{:17}: {:7} {}\".format(index_to_word[word], index_to_tag[tag].upper(), index_to_tag[pred].upper()))"
      ],
      "metadata": {
        "colab": {
          "base_uri": "https://localhost:8080/"
        },
        "id": "Ldsb4zZsnnNP",
        "outputId": "96bc0763-e342-4aeb-b447-0dbd149598f9"
      },
      "execution_count": null,
      "outputs": [
        {
          "output_type": "stream",
          "name": "stdout",
          "text": [
            "Epoch 1/7\n",
            "25/25 [==============================] - 55s 2s/step - loss: 0.4161 - acc: 0.3853 - val_loss: 0.1466 - val_acc: 0.8077\n",
            "Epoch 2/7\n",
            "25/25 [==============================] - 44s 2s/step - loss: 0.0599 - acc: 0.9143 - val_loss: 0.0420 - val_acc: 0.9294\n",
            "Epoch 3/7\n",
            "25/25 [==============================] - 49s 2s/step - loss: 0.0150 - acc: 0.9739 - val_loss: 0.0388 - val_acc: 0.9336\n",
            "Epoch 4/7\n",
            "25/25 [==============================] - 47s 2s/step - loss: 0.0086 - acc: 0.9844 - val_loss: 0.0396 - val_acc: 0.9365\n",
            "Epoch 5/7\n",
            "25/25 [==============================] - 39s 2s/step - loss: 0.0056 - acc: 0.9906 - val_loss: 0.0409 - val_acc: 0.9360\n",
            "Epoch 6/7\n",
            "25/25 [==============================] - 39s 2s/step - loss: 0.0040 - acc: 0.9940 - val_loss: 0.0430 - val_acc: 0.9350\n",
            "Epoch 7/7\n",
            "25/25 [==============================] - 40s 2s/step - loss: 0.0027 - acc: 0.9964 - val_loss: 0.0430 - val_acc: 0.9353\n",
            "\n",
            "25/25 [==============================] - 5s 200ms/step - loss: 0.0430 - acc: 0.9353\n",
            "Test Accuracy = 0.9353\n",
            "\n",
            "1/1 [==============================] - 4s 4s/step\n",
            "Shape of y_pred = (1, 150, 47)\n",
            "\n",
            "단어             |실제값  |예측값\n",
            "-----------------------------------\n",
            "in               : IN      IN\n",
            "addition         : NN      NN\n",
            ",                : ,       ,\n",
            "buick            : NNP     NNP\n",
            "is               : VBZ     VBZ\n",
            "a                : DT      DT\n",
            "relatively       : RB      RB\n",
            "respected        : VBN     VBN\n",
            "nameplate        : NN      NN\n",
            "among            : IN      IN\n",
            "american         : NNP     NNP\n",
            "express          : NNP     NNP\n",
            "card             : NN      NN\n",
            "holders          : NNS     NNS\n",
            ",                : ,       ,\n",
            "says             : VBZ     VBZ\n",
            "0                : -NONE-  -NONE-\n",
            "*t*-1            : -NONE-  -NONE-\n",
            "an               : DT      DT\n",
            "american         : NNP     NNP\n",
            "express          : NNP     NNP\n",
            "spokeswoman      : NN      NN\n",
            ".                : .       .\n"
          ]
        }
      ]
    },
    {
      "cell_type": "markdown",
      "source": [
        "## **BIO(Begin-Inside-Outside) Expression of NER(Named Unity Recognition), 개체명 인식의 BIO 표현**  \n",
        "\n",
        "\n",
        "---\n",
        "\n",
        "#### **CONLL2003 : NER 위한 전통적인 영어 데이터셋**\n",
        "*Link in Bio : https://paperswithcode.com/dataset/conll-2003*  \n",
        "*Link in Bio : https://www.ling.upenn.edu/courses/Fall_2003/ling001/penn_treebank_pos.html*\n",
        "\n",
        "```\n",
        "EU NNP B-NP B-ORG\n",
        "rejects VBZ B-VP O\n",
        "German JJ B-NP B-MISC\n",
        "call NN I-NP O\n",
        "to TO B-VP O\n",
        "boycott VB I-VP O\n",
        "British JJ B-NP B-MISC\n",
        "lamb NN I-NP O\n",
        ". . O O\n",
        "\n",
        "Peter NNP B-NP B-PER\n",
        "Blackburn NNP I-NP I-PER\n",
        "```\n",
        "\n",
        "- **Data 형식 : [Word] [POS] [Chunk Tagging] [NER]**  \n",
        "ex) 예를 들어서 EU 옆에 붙어있는 **NNP는 고유 명사 단수형**, rejects 옆에 있는 **VBZ는 3인칭 단수 동사 현재형**  \n",
        "- **Tagging의 종류 : LOC는 location, ORG는 organization, PER은 person, MISC는 miscellaneous**  \n",
        "- 개체명의 시작 부분이면서 Organization을 의미하는 **German에는 B-ORG라는 개체명 tagging**을 붙임. But German 그 자체로 개체명 하나이기 때문에 거기서 개체명 인식은 종료되면서 뒤에 I가 별도로 붙는 단어가 나오지 않음. German 뒤에 나오는 **call은 개체명이 아니기 때문에 O이 tagging**\n",
        "- 9번째 line에서 문장이 끝나고 한줄 공백을 삽입한 후, 11번째 line에 다음 문장이 시작됨\n",
        "- Peter는 개체명이 시작되면서 person에 해당되기 때문에 B-PER이라는 개체명 tagging이 붙음. 그리고 아직 개체명에 대한 인식은 끝나지 않았기 때문에 뒤에 붙는 Blackburn에서는 I가 나오면서 **I-PER이 개체명 tagging**으로 붙게 됨. 즉, **Peter Blackburn이 person에 속하는 하나의 개체명**"
      ],
      "metadata": {
        "id": "Pw4wH-80Tc2Q"
      }
    },
    {
      "cell_type": "code",
      "source": [
        "file = open(os.path.join(os.getcwd(), \"drive\", \"MyDrive\", \"Colab Notebooks\", \"CAU AI Class\", \"data\", \"train.txt\"), \"r\")\n",
        "\n",
        "tagged_sents = []               # 단어와 개체명 tag의 pair로 이루어진 sent들의 list\n",
        "sent = []                       # 공백으로 문장 간 구분\n",
        "\n",
        "for line in file:\n",
        "    if len(line) == 0 or line.startswith(\"-DOCSTART\") or line[0] == \"\\n\":\n",
        "        if len(sent) > 0:\n",
        "            tagged_sents.append(sent)           # 공백 line이 하나의 sent가 끝난 이후에 나왔다면, 지금까지 만들어진 sent를 tagged_sent에 추가\n",
        "            sent = []                           # sent 리스트는 초기화\n",
        "        continue\n",
        "    \n",
        "    splits = line.split(\" \")                        # 공백 기준 split\n",
        "    splits[-1] = re.sub(r\"\\n\", \"\", splits[-1])      # 줄바꿈 문자 제거\n",
        "    word = splits[0].lower()                        # 소문자화\n",
        "    sent.append([word, splits[-1]])                 # 단어와 개체명 tag만 기록\n",
        "\n",
        "print(\"Total Sample Size =\", len(tagged_sents))\n",
        "print()\n",
        "\n",
        "sents, ner_tags = [], []\n",
        "for tagged_sent in tagged_sents:\n",
        "    sent, tag_info = zip(*tagged_sent)\n",
        "    sents.append(list(sent))\n",
        "    ner_tags.append(list(tag_info))\n",
        "\n",
        "print('Maximum Length : %d' % max(len(l) for l in sents))               # 문장 sample의 길이 분포 확인\n",
        "print('Average Length : %f' % (sum(map(len, sents)) / len(sents)))\n",
        "plt.hist([len(s) for s in sents], bins=50)\n",
        "plt.xlabel('length of samples')\n",
        "plt.ylabel('number of samples')\n",
        "plt.show()"
      ],
      "metadata": {
        "id": "ycaFKk8rjzLV",
        "colab": {
          "base_uri": "https://localhost:8080/",
          "height": 352
        },
        "outputId": "6efb7282-839e-4fb9-de8e-3f993a45ba23"
      },
      "execution_count": null,
      "outputs": [
        {
          "output_type": "stream",
          "name": "stdout",
          "text": [
            "Total Sample Size = 14041\n",
            "\n",
            "Maximum Length : 113\n",
            "Average Length : 14.501887\n"
          ]
        },
        {
          "output_type": "display_data",
          "data": {
            "text/plain": [
              "<Figure size 432x288 with 1 Axes>"
            ],
            "image/png": "[encoded data removed]"
          },
          "metadata": {
            "needs_background": "light"
          }
        }
      ]
    },
    {
      "cell_type": "code",
      "source": [
        "max_words = 4000\n",
        "\n",
        "src_tokenizer = Tokenizer(num_words=max_words, oov_token=\"OOV\")         # for 문장 data\n",
        "src_tokenizer.fit_on_texts(sents)\n",
        "tar_tokenizer = Tokenizer()                                             # for Tagging data\n",
        "tar_tokenizer.fit_on_texts(ner_tags)\n",
        "\n",
        "vocab_size = max_words\n",
        "tag_size = len(tar_tokenizer.word_index) + 1\n",
        "print('Vocabulary Size = {}'.format(vocab_size))\n",
        "print('Tagging Set Size = {}'.format(tag_size))\n",
        "print()\n",
        "\n",
        "X_train = src_tokenizer.texts_to_sequences(sents)\n",
        "y_train = tar_tokenizer.texts_to_sequences(ner_tags)\n",
        "\n",
        "index_to_word = src_tokenizer.index_word\n",
        "index_to_ner = tar_tokenizer.index_word\n",
        "\n",
        "decoded = []\n",
        "for idx in X_train[0]:                                                          # OOV로 대체된 것들에 대해 sample data 디코딩하여 확인\n",
        "    decoded.append(index_to_word[idx])\n",
        "print('Original Sentence = {}'.format(sents[0]))\n",
        "print('OOV Sentence = {}'.format(decoded))\n",
        "print()\n",
        "\n",
        "max_len = 70                                                                    # padding 작업 수행\n",
        "X_train = pad_sequences(X_train, padding=\"post\", maxlen=max_len)\n",
        "y_train = pad_sequences(y_train, padding=\"post\", maxlen=max_len)\n",
        "X_train, X_test, y_train, y_test = train_test_split(X_train, y_train, test_size=0.2, random_state=777)\n",
        "\n",
        "y_train = to_categorical(y_train, num_classes=tag_size)\n",
        "y_test = to_categorical(y_test, num_classes=tag_size)\n",
        "print('Train Data Size : {}'.format(X_train.shape))\n",
        "print('Train Label Size : {}'.format(y_train.shape))\n",
        "print('Test Data Size : {}'.format(X_test.shape))\n",
        "print('Test Label Size : {}'.format(y_test.shape))"
      ],
      "metadata": {
        "colab": {
          "base_uri": "https://localhost:8080/"
        },
        "id": "4ItFM22GdUFx",
        "outputId": "116e3ed1-a7e1-413d-9acb-11fc99e6220b"
      },
      "execution_count": null,
      "outputs": [
        {
          "output_type": "stream",
          "name": "stdout",
          "text": [
            "Vocabulary Size = 4000\n",
            "Tagging Set Size = 10\n",
            "\n",
            "Original Sentence = ['eu', 'rejects', 'german', 'call', 'to', 'boycott', 'british', 'lamb', '.']\n",
            "OOV Sentence = ['eu', 'OOV', 'german', 'call', 'to', 'boycott', 'british', 'OOV', '.']\n",
            "\n",
            "Train Data Size : (11232, 70)\n",
            "Train Label Size : (11232, 70, 10)\n",
            "Test Data Size : (2809, 70)\n",
            "Test Label Size : (2809, 70, 10)\n"
          ]
        }
      ]
    },
    {
      "cell_type": "code",
      "source": [
        "embedding_dim = 128\n",
        "hidden_units = 128\n",
        "\n",
        "model = Sequential()\n",
        "model.add(Embedding(input_dim=vocab_size, output_dim=embedding_dim, input_length=max_len, mask_zero=True))\n",
        "model.add(Bidirectional(LSTM(hidden_units, return_sequences=True)))\n",
        "model.add(TimeDistributed(Dense(tag_size, activation=\"softmax\")))\n",
        "model.summary()\n",
        "print()\n",
        "\n",
        "model.compile(optimizer=Adam(0.001), loss=\"categorical_crossentropy\", metrics=[\"acc\"])\n",
        "model.fit(X_train, y_train, epochs=8, batch_size=128, validation_data=(X_test, y_test))\n",
        "print(\"Test Accuracy = %.4f\" % (model.evaluate(X_test, y_test)[1]))\n",
        "print()\n",
        "\n",
        "idx = 10                                                                        # 확인하고 싶은 테스트용 sample index\n",
        "y_pred = model.predict(np.array([X_test[idx]]))                                 # 입력한 테스트용 샘플에 대해서 y_pred return\n",
        "y_pred = np.argmax(y_pred, axis=-1)                                             # 확률값 벡터를 Integer Encoding으로 변경\n",
        "true = np.argmax(y_test[idx], -1)                                               # One-Hot Vector를 Integer Encoding으로 변경\n",
        "\n",
        "print(\"{:15}|{:5}|{}\".format(\"단어\", \"실제값\", \"예측값\"))\n",
        "print(35 * \"-\")\n",
        "\n",
        "for word, tag, pred in zip(X_test[idx], true, y_pred[0]):\n",
        "    if word != 0:           # PAD(padding) token값은 제외\n",
        "        print(\"{:17}: {:7} {}\".format(index_to_word[word], index_to_ner[tag].upper(), index_to_ner[pred].upper()))"
      ],
      "metadata": {
        "colab": {
          "base_uri": "https://localhost:8080/"
        },
        "id": "NlcWEwGFhez4",
        "outputId": "9233317b-88de-4514-9943-fc2bfea842fe"
      },
      "execution_count": null,
      "outputs": [
        {
          "output_type": "stream",
          "name": "stdout",
          "text": [
            "Model: \"sequential_2\"\n",
            "_________________________________________________________________\n",
            " Layer (type)                Output Shape              Param #   \n",
            "=================================================================\n",
            " embedding_2 (Embedding)     (None, 70, 128)           512000    \n",
            "                                                                 \n",
            " bidirectional_2 (Bidirectio  (None, 70, 256)          263168    \n",
            " nal)                                                            \n",
            "                                                                 \n",
            " time_distributed_2 (TimeDis  (None, 70, 10)           2570      \n",
            " tributed)                                                       \n",
            "                                                                 \n",
            "=================================================================\n",
            "Total params: 777,738\n",
            "Trainable params: 777,738\n",
            "Non-trainable params: 0\n",
            "_________________________________________________________________\n",
            "\n",
            "Epoch 1/8\n",
            "88/88 [==============================] - 68s 681ms/step - loss: 0.1994 - acc: 0.8237 - val_loss: 0.1313 - val_acc: 0.8333\n",
            "Epoch 2/8\n",
            "88/88 [==============================] - 54s 618ms/step - loss: 0.1061 - acc: 0.8470 - val_loss: 0.0838 - val_acc: 0.8757\n",
            "Epoch 3/8\n",
            "88/88 [==============================] - 54s 617ms/step - loss: 0.0728 - acc: 0.8958 - val_loss: 0.0583 - val_acc: 0.9170\n",
            "Epoch 4/8\n",
            "88/88 [==============================] - 57s 651ms/step - loss: 0.0495 - acc: 0.9308 - val_loss: 0.0423 - val_acc: 0.9404\n",
            "Epoch 5/8\n",
            "88/88 [==============================] - 54s 618ms/step - loss: 0.0361 - acc: 0.9492 - val_loss: 0.0370 - val_acc: 0.9480\n",
            "Epoch 6/8\n",
            "88/88 [==============================] - 53s 604ms/step - loss: 0.0297 - acc: 0.9580 - val_loss: 0.0341 - val_acc: 0.9538\n",
            "Epoch 7/8\n",
            "88/88 [==============================] - 53s 603ms/step - loss: 0.0251 - acc: 0.9648 - val_loss: 0.0330 - val_acc: 0.9553\n",
            "Epoch 8/8\n",
            "88/88 [==============================] - 55s 621ms/step - loss: 0.0221 - acc: 0.9686 - val_loss: 0.0321 - val_acc: 0.9571\n",
            "88/88 [==============================] - 8s 86ms/step - loss: 0.0321 - acc: 0.9571\n",
            "Test Accuracy = 0.9571\n",
            "\n",
            "1/1 [==============================] - 3s 3s/step\n",
            "단어             |실제값  |예측값\n",
            "-----------------------------------\n",
            "sarah            : B-PER   B-PER\n",
            "brady            : I-PER   I-PER\n",
            ",                : O       O\n",
            "whose            : O       O\n",
            "republican       : B-MISC  B-MISC\n",
            "husband          : O       O\n",
            "was              : O       O\n",
            "OOV              : O       O\n",
            "OOV              : O       O\n",
            "in               : O       O\n",
            "an               : O       O\n",
            "OOV              : O       O\n",
            "attempt          : O       O\n",
            "on               : O       O\n",
            "president        : O       O\n",
            "ronald           : B-PER   B-PER\n",
            "reagan           : I-PER   I-PER\n",
            ",                : O       O\n",
            "took             : O       O\n",
            "centre           : O       O\n",
            "stage            : O       O\n",
            "at               : O       O\n",
            "the              : O       O\n",
            "democratic       : B-MISC  B-MISC\n",
            "national         : I-MISC  I-MISC\n",
            "convention       : I-MISC  I-MISC\n",
            "on               : O       O\n",
            "monday           : O       O\n",
            "night            : O       O\n",
            "to               : O       O\n",
            "OOV              : O       O\n",
            "president        : O       O\n",
            "bill             : B-PER   B-PER\n",
            "clinton          : I-PER   I-PER\n",
            "'s               : O       O\n",
            "gun              : O       O\n",
            "control          : O       O\n",
            "efforts          : O       O\n",
            ".                : O       O\n"
          ]
        }
      ]
    }
  ]
}